{
  "nbformat": 4,
  "nbformat_minor": 0,
  "metadata": {
    "colab": {
      "name": "ALL_NEWSPAPERS_ARTICLES_EXTRACTION_13th_Jan_2022.ipynb",
      "provenance": [],
      "collapsed_sections": [],
      "authorship_tag": "ABX9TyPcwYoqlilSxs7zF8nQKi/u",
      "include_colab_link": true
    },
    "kernelspec": {
      "name": "python3",
      "display_name": "Python 3"
    },
    "language_info": {
      "name": "python"
    }
  },
  "cells": [
    {
      "cell_type": "markdown",
      "metadata": {
        "id": "view-in-github",
        "colab_type": "text"
      },
      "source": [
        "<a href=\"https://colab.research.google.com/github/Gaurav7004/NEWS_ARTICLES_DEPLOYMENT/blob/main/ALL_NEWSPAPERS_ARTICLES_EXTRACTION_13th_Jan_2022.ipynb\" target=\"_parent\"><img src=\"https://colab.research.google.com/assets/colab-badge.svg\" alt=\"Open In Colab\"/></a>"
      ]
    },
    {
      "cell_type": "code",
      "source": [
        "from bs4 import BeautifulSoup\n",
        "import requests\n",
        "import pandas as pd\n",
        "import re"
      ],
      "metadata": {
        "id": "b6Cis5ae1P7S"
      },
      "execution_count": 1,
      "outputs": []
    },
    {
      "cell_type": "code",
      "source": [
        "url='https://www.financialexpress.com/economy/page/'\n",
        "agent = {\"User-Agent\":'Mozilla/5.0 (Windows NT 6.3; WOW64) AppleWebKit/537.36 (KHTML, like Gecko) Chrome/59.0.3071.115 Safari/537.36'}\n",
        "page=requests.get(url,headers=agent)\n",
        "soup=BeautifulSoup(page.text,'html.parser')"
      ],
      "metadata": {
        "id": "Z2rrgEVoE0S_"
      },
      "execution_count": 2,
      "outputs": []
    },
    {
      "cell_type": "code",
      "source": [
        "page_links=[]\n",
        "\n",
        "for page_num in range(1,5):\n",
        "  page_url=url+str(page_num)\n",
        "  page_links.append(page_url)"
      ],
      "metadata": {
        "id": "ULUdOP4iE0eq"
      },
      "execution_count": 3,
      "outputs": []
    },
    {
      "cell_type": "code",
      "source": [
        "page_links[0:4]"
      ],
      "metadata": {
        "colab": {
          "base_uri": "https://localhost:8080/"
        },
        "id": "ES-lD2y6E0hJ",
        "outputId": "b11d489f-8fc6-4749-df42-a37d5e6d592f"
      },
      "execution_count": 4,
      "outputs": [
        {
          "output_type": "execute_result",
          "data": {
            "text/plain": [
              "['https://www.financialexpress.com/economy/page/1',\n",
              " 'https://www.financialexpress.com/economy/page/2',\n",
              " 'https://www.financialexpress.com/economy/page/3',\n",
              " 'https://www.financialexpress.com/economy/page/4']"
            ]
          },
          "metadata": {},
          "execution_count": 4
        }
      ]
    },
    {
      "cell_type": "code",
      "source": [
        "str_for_search = []\n",
        "\n",
        "# importing modules\n",
        "import urllib.request \n",
        "\n",
        "for url in page_links:\n",
        "  # opening the url for reading\n",
        "  html = urllib.request.urlopen(url) \n",
        "\n",
        "  # parsing the html file\n",
        "  htmlParse = BeautifulSoup(html, 'html.parser')\n",
        "\n",
        "  # print(htmlParse)\n",
        "  \n",
        "  # getting all the paragraphs\n",
        "  for para in htmlParse.find_all('div', class_='entry-title'):\n",
        "      lis = para.find_all('a')\n",
        "      str_for_search.append(lis)"
      ],
      "metadata": {
        "id": "sPwll6mxE0kB"
      },
      "execution_count": 5,
      "outputs": []
    },
    {
      "cell_type": "code",
      "source": [
        "str(str_for_search[0])"
      ],
      "metadata": {
        "colab": {
          "base_uri": "https://localhost:8080/",
          "height": 55
        },
        "id": "5_VEQ6FzE0nd",
        "outputId": "6030d64e-8e13-4b6d-e4ae-2cd9a095509c"
      },
      "execution_count": 6,
      "outputs": [
        {
          "output_type": "execute_result",
          "data": {
            "application/vnd.google.colaboratory.intrinsic+json": {
              "type": "string"
            },
            "text/plain": [
              "'[<a href=\"https://www.financialexpress.com/economy/pakistan-to-grow-at-3-4-in-current-fiscal-world-bank/2405969/\" rel=\"bookmark\">Pakistan to grow at 3.4% in current fiscal: World Bank</a>]'"
            ]
          },
          "metadata": {},
          "execution_count": 6
        }
      ]
    },
    {
      "cell_type": "code",
      "source": [
        "Final_LIST = []\n",
        "\n",
        "## Extracting required News Articles Link\n",
        "for i in range(len(str_for_search)):\n",
        "  regex=\"(?P<url>https?://[^\\s]+)\"\n",
        "\n",
        "  matches = re.findall(regex, str(str_for_search[i]))\n",
        "  Final_LIST.append(matches[0])\n"
      ],
      "metadata": {
        "id": "gBA14tUKefCK"
      },
      "execution_count": 7,
      "outputs": []
    },
    {
      "cell_type": "code",
      "source": [
        "Final_LIST[0]"
      ],
      "metadata": {
        "colab": {
          "base_uri": "https://localhost:8080/",
          "height": 38
        },
        "id": "bAavQ6t9efNc",
        "outputId": "d5f786f5-fe32-4669-a666-b9c8914530ec"
      },
      "execution_count": 8,
      "outputs": [
        {
          "output_type": "execute_result",
          "data": {
            "application/vnd.google.colaboratory.intrinsic+json": {
              "type": "string"
            },
            "text/plain": [
              "'https://www.financialexpress.com/economy/pakistan-to-grow-at-3-4-in-current-fiscal-world-bank/2405969/\"'"
            ]
          },
          "metadata": {},
          "execution_count": 8
        }
      ]
    },
    {
      "cell_type": "code",
      "source": [
        "## Lists to get dates and news articles\n",
        "List_articles = []\n",
        "List_date = []\n",
        "List_month = []\n",
        "List_year = []\n",
        "\n",
        "for i in range(len(Final_LIST)):\n",
        "  # opening the url for reading\n",
        "  html = urllib.request.urlopen(str(Final_LIST[i]))\n",
        "\n",
        "  # parsing the html file\n",
        "  htmlParse = BeautifulSoup(html, 'html.parser')\n",
        "  \n",
        "  # getting all the paragraphs of articles\n",
        "  for para in htmlParse.find_all(['div'], class_='entry-content wp-block-post-content'):\n",
        "    # txt = para.find_all('p')\n",
        "    List_articles.append(para.get_text())\n",
        "\n",
        "  # Getting respective month, date, year the article published\n",
        "  for det in htmlParse.find_all('div', class_='ie-network-post-meta-date'):\n",
        "    dt = det.get_text()\n",
        "    dt = dt.split(' ')\n",
        "    List_month.append(dt[0])\n",
        "    List_date.append(dt[1])\n",
        "    List_year.append(dt[2])\n"
      ],
      "metadata": {
        "id": "j9WVmOGEefQ0"
      },
      "execution_count": 14,
      "outputs": []
    },
    {
      "cell_type": "code",
      "source": [
        "List_articles[109]"
      ],
      "metadata": {
        "colab": {
          "base_uri": "https://localhost:8080/",
          "height": 196
        },
        "id": "5q9W4dCMefTt",
        "outputId": "96640f55-93a2-4c4b-fab8-ef3ee5ae31ea"
      },
      "execution_count": 19,
      "outputs": [
        {
          "output_type": "execute_result",
          "data": {
            "application/vnd.google.colaboratory.intrinsic+json": {
              "type": "string"
            },
            "text/plain": [
              "'\\nCongress leader Priyanka Gandhi Vadra on Thursday released the first list of 125 candidates for the upcoming assembly elections in Uttar Pradesh, giving ticket to Unnao rape victim’s mother Asha Singh. \\n“In the first list of 125 candidates for UP polls, 50 candidates are women, including Asha Singh, mother of the Unnao rape victim. From Shahjahanpur, we have fielded Asha worker Poonam Pandey who led an agitation for a raise in honorarium,” said Gandhi while addressing the media. \\nThe Congress general secretary said that the 125 candidates in the list include 40 per cent women and 40 per cent youth, adding that with the historic move, the party hopes to bring in “a new kind of politics in the sate”.  \\n\\nCongress releases first list of candidates for #UttarPradeshElection2022 pic.twitter.com/fgDYWhIjEe— Supriya Bhardwaj (@Supriya23bh) January 13, 2022\\n\\nThe list also includes Ramraj Gond, who had spearheaded the Gond tribals’ legal battle over land in Umbha village in Sonbhadra. Gond is the president of the Sonbhadra district Congress committee.\\nThe other candidates include Poonam Pandey, an Asha worker who was allegedly roughed up by the police while trying to meet UP Chief Minister Yogi Adityanath in Shahjahanpur in November last year, and Congress leader Sadaf Jafar, who was in jail in connection with the anti-CAA stir in the state.\\nThe BJP is also expected to release its list of candidates for Uttar Pradesh today where the first of the seven-phased polls will be held on February 10. The last date of nominations for the first phase is January 21. \\nThe Congress, which is struggling to regain its lost ground in Uttar Pradesh, has decided to go it alone in the UP polls with the party handing the responsibility to Priyanka Gandhi. \\nThe UP polls are expected to turn into a two-way contest between the BJP and the Samajwadi Party. While pre-poll surveys have predicted a victory for the BJP, the series of defections faced by the party seem to have given the Samajwadi Party a shot in the arm with the polls less than a month away. \\n'"
            ]
          },
          "metadata": {},
          "execution_count": 19
        }
      ]
    },
    {
      "cell_type": "code",
      "source": [
        "List_date[109]"
      ],
      "metadata": {
        "colab": {
          "base_uri": "https://localhost:8080/",
          "height": 38
        },
        "id": "q31XZQeUefXA",
        "outputId": "72e41a82-79b9-48ef-f01e-2edfc507ba2d"
      },
      "execution_count": 18,
      "outputs": [
        {
          "output_type": "execute_result",
          "data": {
            "application/vnd.google.colaboratory.intrinsic+json": {
              "type": "string"
            },
            "text/plain": [
              "''"
            ]
          },
          "metadata": {},
          "execution_count": 18
        }
      ]
    },
    {
      "cell_type": "code",
      "source": [
        "## Newspaper Name\n",
        "Newspaper_Name = ['The Financial Express'] * len(List_articles)"
      ],
      "metadata": {
        "id": "wez1AZEHwhn9"
      },
      "execution_count": 16,
      "outputs": []
    },
    {
      "cell_type": "code",
      "source": [
        "df = pd.DataFrame(list(zip(Newspaper_Name, List_articles, List_year, List_month, List_date)), columns =['Newspaper Name', 'Article', 'Year', 'Month', 'Date'])\n",
        "df.to_excel('News_Articles_Scraped_Data.xlsx')"
      ],
      "metadata": {
        "id": "Xc7VXCTWhr96"
      },
      "execution_count": 22,
      "outputs": []
    },
    {
      "cell_type": "code",
      "source": [
        "df"
      ],
      "metadata": {
        "colab": {
          "base_uri": "https://localhost:8080/",
          "height": 423
        },
        "id": "L1T_IIQHlpez",
        "outputId": "48a183eb-870f-43de-a3da-49cc14b93290"
      },
      "execution_count": 21,
      "outputs": [
        {
          "output_type": "execute_result",
          "data": {
            "text/html": [
              "\n",
              "  <div id=\"df-33e11376-7158-48dd-a907-0720907967b7\">\n",
              "    <div class=\"colab-df-container\">\n",
              "      <div>\n",
              "<style scoped>\n",
              "    .dataframe tbody tr th:only-of-type {\n",
              "        vertical-align: middle;\n",
              "    }\n",
              "\n",
              "    .dataframe tbody tr th {\n",
              "        vertical-align: top;\n",
              "    }\n",
              "\n",
              "    .dataframe thead th {\n",
              "        text-align: right;\n",
              "    }\n",
              "</style>\n",
              "<table border=\"1\" class=\"dataframe\">\n",
              "  <thead>\n",
              "    <tr style=\"text-align: right;\">\n",
              "      <th></th>\n",
              "      <th>Newspaper Name</th>\n",
              "      <th>Article</th>\n",
              "      <th>Year</th>\n",
              "      <th>Month</th>\n",
              "      <th>Date</th>\n",
              "    </tr>\n",
              "  </thead>\n",
              "  <tbody>\n",
              "    <tr>\n",
              "      <th>0</th>\n",
              "      <td>The Financial Express</td>\n",
              "      <td>\\nPakistan’s economy is expected to grow by 3....</td>\n",
              "      <td>2022</td>\n",
              "      <td>\\nJanuary</td>\n",
              "      <td>13,</td>\n",
              "    </tr>\n",
              "    <tr>\n",
              "      <th>1</th>\n",
              "      <td>The Financial Express</td>\n",
              "      <td>\\nSouth Africa’s economy is likely to grow by ...</td>\n",
              "      <td>2022</td>\n",
              "      <td>\\nJanuary</td>\n",
              "      <td>13,</td>\n",
              "    </tr>\n",
              "    <tr>\n",
              "      <th>2</th>\n",
              "      <td>The Financial Express</td>\n",
              "      <td>\\nBy Rumki Majumdar\\nThe surge in infections s...</td>\n",
              "      <td>2022</td>\n",
              "      <td>\\nJanuary</td>\n",
              "      <td>13,</td>\n",
              "    </tr>\n",
              "    <tr>\n",
              "      <th>3</th>\n",
              "      <td>The Financial Express</td>\n",
              "      <td>\\nThe income tax department on Thursday said i...</td>\n",
              "      <td>2022</td>\n",
              "      <td>\\nJanuary</td>\n",
              "      <td>13,</td>\n",
              "    </tr>\n",
              "    <tr>\n",
              "      <th>4</th>\n",
              "      <td>The Financial Express</td>\n",
              "      <td>\\nIndia and the UK on Thursday formally launch...</td>\n",
              "      <td>January</td>\n",
              "      <td>\\nUpdated:</td>\n",
              "      <td></td>\n",
              "    </tr>\n",
              "    <tr>\n",
              "      <th>...</th>\n",
              "      <td>...</td>\n",
              "      <td>...</td>\n",
              "      <td>...</td>\n",
              "      <td>...</td>\n",
              "      <td>...</td>\n",
              "    </tr>\n",
              "    <tr>\n",
              "      <th>108</th>\n",
              "      <td>The Financial Express</td>\n",
              "      <td>\\nThe BJP’s Central Election Committee met on ...</td>\n",
              "      <td>2022</td>\n",
              "      <td>\\nJanuary</td>\n",
              "      <td>13,</td>\n",
              "    </tr>\n",
              "    <tr>\n",
              "      <th>109</th>\n",
              "      <td>The Financial Express</td>\n",
              "      <td>\\nCongress leader Priyanka Gandhi Vadra on Thu...</td>\n",
              "      <td>January</td>\n",
              "      <td>\\nUpdated:</td>\n",
              "      <td></td>\n",
              "    </tr>\n",
              "    <tr>\n",
              "      <th>110</th>\n",
              "      <td>The Financial Express</td>\n",
              "      <td>\\n \\n\\n\\n\\n\\n\\n\\n1/8\\t\\t\\t\\t\\t\\t\\t\\t\\t\\t\\t\\nCl...</td>\n",
              "      <td>2021</td>\n",
              "      <td>\\nDecember</td>\n",
              "      <td>15,</td>\n",
              "    </tr>\n",
              "    <tr>\n",
              "      <th>111</th>\n",
              "      <td>The Financial Express</td>\n",
              "      <td>\\n\\n\\n\\n\\n\\n\\n1/6\\t\\t\\t\\t\\t\\t\\t\\t\\t\\t\\t\\nClic...</td>\n",
              "      <td>2021</td>\n",
              "      <td>\\nDecember</td>\n",
              "      <td>13,</td>\n",
              "    </tr>\n",
              "    <tr>\n",
              "      <th>112</th>\n",
              "      <td>The Financial Express</td>\n",
              "      <td>\\n\\n\\n\\n\\n\\n\\n1/7\\t\\t\\t\\t\\t\\t\\t\\t\\t\\t\\t\\nClic...</td>\n",
              "      <td>2021</td>\n",
              "      <td>\\nDecember</td>\n",
              "      <td>10,</td>\n",
              "    </tr>\n",
              "  </tbody>\n",
              "</table>\n",
              "<p>113 rows × 5 columns</p>\n",
              "</div>\n",
              "      <button class=\"colab-df-convert\" onclick=\"convertToInteractive('df-33e11376-7158-48dd-a907-0720907967b7')\"\n",
              "              title=\"Convert this dataframe to an interactive table.\"\n",
              "              style=\"display:none;\">\n",
              "        \n",
              "  <svg xmlns=\"http://www.w3.org/2000/svg\" height=\"24px\"viewBox=\"0 0 24 24\"\n",
              "       width=\"24px\">\n",
              "    <path d=\"M0 0h24v24H0V0z\" fill=\"none\"/>\n",
              "    <path d=\"M18.56 5.44l.94 2.06.94-2.06 2.06-.94-2.06-.94-.94-2.06-.94 2.06-2.06.94zm-11 1L8.5 8.5l.94-2.06 2.06-.94-2.06-.94L8.5 2.5l-.94 2.06-2.06.94zm10 10l.94 2.06.94-2.06 2.06-.94-2.06-.94-.94-2.06-.94 2.06-2.06.94z\"/><path d=\"M17.41 7.96l-1.37-1.37c-.4-.4-.92-.59-1.43-.59-.52 0-1.04.2-1.43.59L10.3 9.45l-7.72 7.72c-.78.78-.78 2.05 0 2.83L4 21.41c.39.39.9.59 1.41.59.51 0 1.02-.2 1.41-.59l7.78-7.78 2.81-2.81c.8-.78.8-2.07 0-2.86zM5.41 20L4 18.59l7.72-7.72 1.47 1.35L5.41 20z\"/>\n",
              "  </svg>\n",
              "      </button>\n",
              "      \n",
              "  <style>\n",
              "    .colab-df-container {\n",
              "      display:flex;\n",
              "      flex-wrap:wrap;\n",
              "      gap: 12px;\n",
              "    }\n",
              "\n",
              "    .colab-df-convert {\n",
              "      background-color: #E8F0FE;\n",
              "      border: none;\n",
              "      border-radius: 50%;\n",
              "      cursor: pointer;\n",
              "      display: none;\n",
              "      fill: #1967D2;\n",
              "      height: 32px;\n",
              "      padding: 0 0 0 0;\n",
              "      width: 32px;\n",
              "    }\n",
              "\n",
              "    .colab-df-convert:hover {\n",
              "      background-color: #E2EBFA;\n",
              "      box-shadow: 0px 1px 2px rgba(60, 64, 67, 0.3), 0px 1px 3px 1px rgba(60, 64, 67, 0.15);\n",
              "      fill: #174EA6;\n",
              "    }\n",
              "\n",
              "    [theme=dark] .colab-df-convert {\n",
              "      background-color: #3B4455;\n",
              "      fill: #D2E3FC;\n",
              "    }\n",
              "\n",
              "    [theme=dark] .colab-df-convert:hover {\n",
              "      background-color: #434B5C;\n",
              "      box-shadow: 0px 1px 3px 1px rgba(0, 0, 0, 0.15);\n",
              "      filter: drop-shadow(0px 1px 2px rgba(0, 0, 0, 0.3));\n",
              "      fill: #FFFFFF;\n",
              "    }\n",
              "  </style>\n",
              "\n",
              "      <script>\n",
              "        const buttonEl =\n",
              "          document.querySelector('#df-33e11376-7158-48dd-a907-0720907967b7 button.colab-df-convert');\n",
              "        buttonEl.style.display =\n",
              "          google.colab.kernel.accessAllowed ? 'block' : 'none';\n",
              "\n",
              "        async function convertToInteractive(key) {\n",
              "          const element = document.querySelector('#df-33e11376-7158-48dd-a907-0720907967b7');\n",
              "          const dataTable =\n",
              "            await google.colab.kernel.invokeFunction('convertToInteractive',\n",
              "                                                     [key], {});\n",
              "          if (!dataTable) return;\n",
              "\n",
              "          const docLinkHtml = 'Like what you see? Visit the ' +\n",
              "            '<a target=\"_blank\" href=https://colab.research.google.com/notebooks/data_table.ipynb>data table notebook</a>'\n",
              "            + ' to learn more about interactive tables.';\n",
              "          element.innerHTML = '';\n",
              "          dataTable['output_type'] = 'display_data';\n",
              "          await google.colab.output.renderOutput(dataTable, element);\n",
              "          const docLink = document.createElement('div');\n",
              "          docLink.innerHTML = docLinkHtml;\n",
              "          element.appendChild(docLink);\n",
              "        }\n",
              "      </script>\n",
              "    </div>\n",
              "  </div>\n",
              "  "
            ],
            "text/plain": [
              "            Newspaper Name  ... Date\n",
              "0    The Financial Express  ...  13,\n",
              "1    The Financial Express  ...  13,\n",
              "2    The Financial Express  ...  13,\n",
              "3    The Financial Express  ...  13,\n",
              "4    The Financial Express  ...     \n",
              "..                     ...  ...  ...\n",
              "108  The Financial Express  ...  13,\n",
              "109  The Financial Express  ...     \n",
              "110  The Financial Express  ...  15,\n",
              "111  The Financial Express  ...  13,\n",
              "112  The Financial Express  ...  10,\n",
              "\n",
              "[113 rows x 5 columns]"
            ]
          },
          "metadata": {},
          "execution_count": 21
        }
      ]
    }
  ]
}