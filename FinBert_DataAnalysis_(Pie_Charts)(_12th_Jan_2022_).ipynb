{
  "nbformat": 4,
  "nbformat_minor": 0,
  "metadata": {
    "colab": {
      "name": "FinBert_DataAnalysis (Pie Charts)( 12th Jan 2022 ).ipynb",
      "provenance": [],
      "collapsed_sections": [],
      "authorship_tag": "ABX9TyPpiOj3ihRrHXyXMKqzo1Fp",
      "include_colab_link": true
    },
    "kernelspec": {
      "name": "python3",
      "display_name": "Python 3"
    },
    "language_info": {
      "name": "python"
    }
  },
  "cells": [
    {
      "cell_type": "markdown",
      "metadata": {
        "id": "view-in-github",
        "colab_type": "text"
      },
      "source": [
        "<a href=\"https://colab.research.google.com/github/Gaurav7004/NEWS_ARTICLES_DEPLOYMENT/blob/main/FinBert_DataAnalysis_(Pie_Charts)(_12th_Jan_2022_).ipynb\" target=\"_parent\"><img src=\"https://colab.research.google.com/assets/colab-badge.svg\" alt=\"Open In Colab\"/></a>"
      ]
    },
    {
      "cell_type": "code",
      "execution_count": 45,
      "metadata": {
        "id": "ou_jIHKComWW"
      },
      "outputs": [],
      "source": [
        "import numpy as np\n",
        "import pandas as pd\n",
        "import matplotlib.pyplot as plt\n",
        "from pandas.plotting import table"
      ]
    },
    {
      "cell_type": "code",
      "source": [
        "df = pd.read_csv('FinBERT_Predictions.csv', encoding='utf-8')"
      ],
      "metadata": {
        "id": "M-pgpa4SpTkx"
      },
      "execution_count": 46,
      "outputs": []
    },
    {
      "cell_type": "code",
      "source": [
        "df.head(3)"
      ],
      "metadata": {
        "colab": {
          "base_uri": "https://localhost:8080/",
          "height": 143
        },
        "id": "m0ovmLxI0S8d",
        "outputId": "7431c418-f5d5-4c51-a9b8-09a2dfc3ecc5"
      },
      "execution_count": 47,
      "outputs": [
        {
          "output_type": "execute_result",
          "data": {
            "text/html": [
              "\n",
              "  <div id=\"df-987f763f-fdc4-4e8d-99b8-977c90de3b90\">\n",
              "    <div class=\"colab-df-container\">\n",
              "      <div>\n",
              "<style scoped>\n",
              "    .dataframe tbody tr th:only-of-type {\n",
              "        vertical-align: middle;\n",
              "    }\n",
              "\n",
              "    .dataframe tbody tr th {\n",
              "        vertical-align: top;\n",
              "    }\n",
              "\n",
              "    .dataframe thead th {\n",
              "        text-align: right;\n",
              "    }\n",
              "</style>\n",
              "<table border=\"1\" class=\"dataframe\">\n",
              "  <thead>\n",
              "    <tr style=\"text-align: right;\">\n",
              "      <th></th>\n",
              "      <th>Unnamed: 0</th>\n",
              "      <th>Headline</th>\n",
              "      <th>Positive</th>\n",
              "      <th>Negative</th>\n",
              "      <th>Neutral</th>\n",
              "    </tr>\n",
              "  </thead>\n",
              "  <tbody>\n",
              "    <tr>\n",
              "      <th>0</th>\n",
              "      <td>0</td>\n",
              "      <td>while containment measures will weigh on india...</td>\n",
              "      <td>0.724555</td>\n",
              "      <td>0.248770</td>\n",
              "      <td>0.026675</td>\n",
              "    </tr>\n",
              "    <tr>\n",
              "      <th>1</th>\n",
              "      <td>0</td>\n",
              "      <td>the gst intelligence has spotted yet another c...</td>\n",
              "      <td>0.016143</td>\n",
              "      <td>0.913474</td>\n",
              "      <td>0.070383</td>\n",
              "    </tr>\n",
              "    <tr>\n",
              "      <th>2</th>\n",
              "      <td>0</td>\n",
              "      <td>secondly, for macro indicators, deviation of g...</td>\n",
              "      <td>0.035801</td>\n",
              "      <td>0.061664</td>\n",
              "      <td>0.902535</td>\n",
              "    </tr>\n",
              "  </tbody>\n",
              "</table>\n",
              "</div>\n",
              "      <button class=\"colab-df-convert\" onclick=\"convertToInteractive('df-987f763f-fdc4-4e8d-99b8-977c90de3b90')\"\n",
              "              title=\"Convert this dataframe to an interactive table.\"\n",
              "              style=\"display:none;\">\n",
              "        \n",
              "  <svg xmlns=\"http://www.w3.org/2000/svg\" height=\"24px\"viewBox=\"0 0 24 24\"\n",
              "       width=\"24px\">\n",
              "    <path d=\"M0 0h24v24H0V0z\" fill=\"none\"/>\n",
              "    <path d=\"M18.56 5.44l.94 2.06.94-2.06 2.06-.94-2.06-.94-.94-2.06-.94 2.06-2.06.94zm-11 1L8.5 8.5l.94-2.06 2.06-.94-2.06-.94L8.5 2.5l-.94 2.06-2.06.94zm10 10l.94 2.06.94-2.06 2.06-.94-2.06-.94-.94-2.06-.94 2.06-2.06.94z\"/><path d=\"M17.41 7.96l-1.37-1.37c-.4-.4-.92-.59-1.43-.59-.52 0-1.04.2-1.43.59L10.3 9.45l-7.72 7.72c-.78.78-.78 2.05 0 2.83L4 21.41c.39.39.9.59 1.41.59.51 0 1.02-.2 1.41-.59l7.78-7.78 2.81-2.81c.8-.78.8-2.07 0-2.86zM5.41 20L4 18.59l7.72-7.72 1.47 1.35L5.41 20z\"/>\n",
              "  </svg>\n",
              "      </button>\n",
              "      \n",
              "  <style>\n",
              "    .colab-df-container {\n",
              "      display:flex;\n",
              "      flex-wrap:wrap;\n",
              "      gap: 12px;\n",
              "    }\n",
              "\n",
              "    .colab-df-convert {\n",
              "      background-color: #E8F0FE;\n",
              "      border: none;\n",
              "      border-radius: 50%;\n",
              "      cursor: pointer;\n",
              "      display: none;\n",
              "      fill: #1967D2;\n",
              "      height: 32px;\n",
              "      padding: 0 0 0 0;\n",
              "      width: 32px;\n",
              "    }\n",
              "\n",
              "    .colab-df-convert:hover {\n",
              "      background-color: #E2EBFA;\n",
              "      box-shadow: 0px 1px 2px rgba(60, 64, 67, 0.3), 0px 1px 3px 1px rgba(60, 64, 67, 0.15);\n",
              "      fill: #174EA6;\n",
              "    }\n",
              "\n",
              "    [theme=dark] .colab-df-convert {\n",
              "      background-color: #3B4455;\n",
              "      fill: #D2E3FC;\n",
              "    }\n",
              "\n",
              "    [theme=dark] .colab-df-convert:hover {\n",
              "      background-color: #434B5C;\n",
              "      box-shadow: 0px 1px 3px 1px rgba(0, 0, 0, 0.15);\n",
              "      filter: drop-shadow(0px 1px 2px rgba(0, 0, 0, 0.3));\n",
              "      fill: #FFFFFF;\n",
              "    }\n",
              "  </style>\n",
              "\n",
              "      <script>\n",
              "        const buttonEl =\n",
              "          document.querySelector('#df-987f763f-fdc4-4e8d-99b8-977c90de3b90 button.colab-df-convert');\n",
              "        buttonEl.style.display =\n",
              "          google.colab.kernel.accessAllowed ? 'block' : 'none';\n",
              "\n",
              "        async function convertToInteractive(key) {\n",
              "          const element = document.querySelector('#df-987f763f-fdc4-4e8d-99b8-977c90de3b90');\n",
              "          const dataTable =\n",
              "            await google.colab.kernel.invokeFunction('convertToInteractive',\n",
              "                                                     [key], {});\n",
              "          if (!dataTable) return;\n",
              "\n",
              "          const docLinkHtml = 'Like what you see? Visit the ' +\n",
              "            '<a target=\"_blank\" href=https://colab.research.google.com/notebooks/data_table.ipynb>data table notebook</a>'\n",
              "            + ' to learn more about interactive tables.';\n",
              "          element.innerHTML = '';\n",
              "          dataTable['output_type'] = 'display_data';\n",
              "          await google.colab.output.renderOutput(dataTable, element);\n",
              "          const docLink = document.createElement('div');\n",
              "          docLink.innerHTML = docLinkHtml;\n",
              "          element.appendChild(docLink);\n",
              "        }\n",
              "      </script>\n",
              "    </div>\n",
              "  </div>\n",
              "  "
            ],
            "text/plain": [
              "   Unnamed: 0  ...   Neutral\n",
              "0           0  ...  0.026675\n",
              "1           0  ...  0.070383\n",
              "2           0  ...  0.902535\n",
              "\n",
              "[3 rows x 5 columns]"
            ]
          },
          "metadata": {},
          "execution_count": 47
        }
      ]
    },
    {
      "cell_type": "code",
      "source": [
        "keywords =  ['GST', 'taxes', 'Stock', 'Share market', 'shares', 'GDP', 'gst', 'stock', 'Taxes', 'RBI', 'Reserve Bank of India', 'inflation', \n",
        "        'Inflation', 'India Business', 'Indian Economy', 'Export and Import', 'Industrial output', 'EXIM', 'Profit and Loss', \n",
        "        'Commodities prices', 'price rise', 'Loans', 'Borrowings', 'financial aid', 'mortgage', 'microfinance', 'Banking regulations', \n",
        "        'domestic production', 'GNP', 'non industrial output', 'employment', 'unemployment', 'consumption expenditure', 'allowances', 'pay-cuts', 'recession',\n",
        "        'Forecasting', 'predictions', 'world bank', 'IMF', 'International Monetary Fund', 'Market volatility', 'Indian currency', 'exchange rates']\n",
        "\n",
        "## news to list\n",
        "news = df['Headline'].tolist()\n",
        "\n",
        "## list to fill required news sentences\n",
        "lst_reqdWords = []\n",
        "\n",
        "## Extract required news\n",
        "for i in range(len(keywords)):\n",
        "  for j in range(len(news)):\n",
        "    if keywords[i] in news[j]:\n",
        "      lst_reqdWords.append(news[j])\n",
        "    if keywords[i] in news[j]:\n",
        "      lst_reqdWords.append(news[j])\n"
      ],
      "metadata": {
        "id": "86VzRw1wpTtI"
      },
      "execution_count": 48,
      "outputs": []
    },
    {
      "cell_type": "code",
      "source": [
        "## Separated and Total rows\n",
        "len(lst_reqdWords), df.shape[0]"
      ],
      "metadata": {
        "colab": {
          "base_uri": "https://localhost:8080/"
        },
        "id": "7FdGfI_sR1zE",
        "outputId": "95fb3a72-ef1e-4780-a12e-f0ace9934590"
      },
      "execution_count": 49,
      "outputs": [
        {
          "output_type": "execute_result",
          "data": {
            "text/plain": [
              "(9597, 14829)"
            ]
          },
          "metadata": {},
          "execution_count": 49
        }
      ]
    },
    {
      "cell_type": "code",
      "source": [
        "## ONLY for GST ##\n",
        "\n",
        "## Extract required news having 'gst' or 'GST' keyword\n",
        "df_gst = df[df['Headline'].str.lower().str.contains('gst') == True]\n",
        "\n",
        "## Dataframes having gst haing positive, negative, and neutral values\n",
        "df_gst_pos = df_gst[df_gst['Positive'] >= 0.5]\n",
        "df_gst_neg = df_gst[df_gst['Negative'] >= 0.5]\n",
        "df_gst_neu = df_gst[df_gst['Neutral'] >= 0.5]\n",
        "\n",
        "## Counts +ve, -ve , neutral\n",
        "cnt_pos = df_gst_pos.shape[0]\n",
        "cnt_neg = df_gst_neg.shape[0]\n",
        "cnt_neu = df_gst.shape[0] - (cnt_pos+ cnt_neg)\n",
        "\n",
        "print(df_gst.shape[0])\n",
        "print(cnt_pos + cnt_neg  + cnt_neu)\n",
        "\n",
        "## Raw data dictionary\n",
        "raw_data = {'sentiments': ['Positive', 'Negative', 'Neutral'],\n",
        "              'results': [cnt_pos, cnt_neg, cnt_neu]}\n",
        "\n",
        "## Plot Dataframe\n",
        "df_for_Plot = pd.DataFrame(raw_data, columns = ['sentiments', 'results'])\n",
        "\n",
        "#colors = ['red', 'gold', 'yellowgreen', 'blue', 'lightcoral', 'lightskyblue']\n",
        "colors = [\"#1f77b4\", \"#ff7f0e\", \"#2ca02c\", \"#d62728\", \"#9467bd\", \"#8c564b\"]\n",
        "\n",
        "# explode 1st slice\n",
        "explode = (0.1, 0, 0) \n",
        "\n",
        "plt.figure(figsize=(16,8))\n",
        "# plot chart\n",
        "ax1 = plt.subplot(121, aspect='equal')\n",
        "df_for_Plot.plot(kind='pie', y = 'results', ax=ax1, autopct='%1.1f%%', explode=explode, colors=colors,\n",
        " startangle=90, shadow=False, labels=df_for_Plot['sentiments'], legend = False, fontsize=14)\n",
        "\n",
        "# plot table\n",
        "ax2 = plt.subplot(122)\n",
        "plt.axis('off')\n",
        "tbl = table(ax2, df_for_Plot, loc='center')\n",
        "tbl.auto_set_font_size(False)\n",
        "tbl.set_fontsize(14)\n",
        "plt.title(\"Sentiments for the word - GST\", bbox={'facecolor':'0.8', 'pad':5})\n",
        "plt.show()\n"
      ],
      "metadata": {
        "colab": {
          "base_uri": "https://localhost:8080/",
          "height": 517
        },
        "id": "2SthB74SR12Q",
        "outputId": "2c1b972e-6bb4-4566-dda7-f0a2e46ad414"
      },
      "execution_count": 52,
      "outputs": [
        {
          "output_type": "stream",
          "name": "stdout",
          "text": [
            "4355\n",
            "4355\n"
          ]
        },
        {
          "output_type": "display_data",
          "data": {
            "image/png": "[encoded data removed]",
            "text/plain": [
              "<Figure size 1152x576 with 2 Axes>"
            ]
          },
          "metadata": {
            "needs_background": "light"
          }
        }
      ]
    },
    {
      "cell_type": "code",
      "source": [
        "df_gst.columns"
      ],
      "metadata": {
        "colab": {
          "base_uri": "https://localhost:8080/"
        },
        "id": "RNuCY7o-4MNf",
        "outputId": "b986f3b5-1850-4167-c673-a8d32c44c4a4"
      },
      "execution_count": 18,
      "outputs": [
        {
          "output_type": "execute_result",
          "data": {
            "text/plain": [
              "Index(['Unnamed: 0', 'Headline', 'Positive', 'Negative', 'Neutral'], dtype='object')"
            ]
          },
          "metadata": {},
          "execution_count": 18
        }
      ]
    },
    {
      "cell_type": "code",
      "source": [
        "# ### List to append required sentences\n",
        "# req_list_of_df_row = []\n",
        "\n",
        "# for i in range(0, len(df.iloc[i])):\n",
        "#     for j in range(0, len(keywords)):\n",
        "#         if string_lst[j] in x[i]:\n",
        "#             # print('x List: ', x[i])\n",
        "#             # print('string_lst : ', string_lst[j])\n",
        "#             req_list_of_df_row.append(x[i])\n",
        "#         else:\n",
        "#             pass"
      ],
      "metadata": {
        "id": "rugH9RjCpTv6"
      },
      "execution_count": null,
      "outputs": []
    },
    {
      "cell_type": "code",
      "source": [
        ""
      ],
      "metadata": {
        "id": "m_kstW27pTzI"
      },
      "execution_count": null,
      "outputs": []
    },
    {
      "cell_type": "code",
      "source": [
        "''' EXAMPLE '''\n",
        "###############\n",
        "\n",
        "import re\n",
        "\n",
        "## Our keywords\n",
        "string_lst = ['fun of me', 'dum', 'sun', 'gum fun']\n",
        "\n",
        "## Our Row \n",
        "x = [\"I love to have fun of me.\", \"dum dfg\", \"sun rise\", \"gum fun wan\", \"this sun\", \"dum fun\", \"asdf\", \"qwert\"]\n",
        "\n",
        "# print(re.findall(r\"(?=(\"+'|'.join(string_lst)+r\"))\", x))\n",
        "\n",
        "### List to append required sentences\n",
        "req_list_of_df_row = []\n",
        "\n",
        "for i in range(0, len(x)):\n",
        "    for j in range(0, len(string_lst)):\n",
        "        if string_lst[j] in x[i]:\n",
        "            # print('x List: ', x[i])\n",
        "            # print('string_lst : ', string_lst[j])\n",
        "            req_list_of_df_row.append(x[i])\n",
        "        else:\n",
        "            pass\n",
        "\n",
        "print(req_list_of_df_row)"
      ],
      "metadata": {
        "id": "-zVmbotOpT2Q"
      },
      "execution_count": null,
      "outputs": []
    },
    {
      "cell_type": "code",
      "source": [
        ""
      ],
      "metadata": {
        "id": "KvufK1PIpT6H"
      },
      "execution_count": null,
      "outputs": []
    },
    {
      "cell_type": "code",
      "source": [
        ""
      ],
      "metadata": {
        "id": "8InPpvtNpT8W"
      },
      "execution_count": null,
      "outputs": []
    },
    {
      "cell_type": "code",
      "source": [
        ""
      ],
      "metadata": {
        "id": "bFHazwgGpT_i"
      },
      "execution_count": null,
      "outputs": []
    }
  ]
}